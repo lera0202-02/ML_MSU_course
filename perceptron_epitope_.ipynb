{
  "nbformat": 4,
  "nbformat_minor": 0,
  "metadata": {
    "colab": {
      "provenance": [],
      "authorship_tag": "ABX9TyMDLrc0cLxNgMqw61EAAcX/",
      "include_colab_link": true
    },
    "kernelspec": {
      "name": "python3",
      "display_name": "Python 3"
    },
    "language_info": {
      "name": "python"
    }
  },
  "cells": [
    {
      "cell_type": "markdown",
      "metadata": {
        "id": "view-in-github",
        "colab_type": "text"
      },
      "source": [
        "<a href=\"https://colab.research.google.com/github/lera0202-02/ML_MSU_course/blob/main/perceptron_epitope_.ipynb\" target=\"_parent\"><img src=\"https://colab.research.google.com/assets/colab-badge.svg\" alt=\"Open In Colab\"/></a>"
      ]
    },
    {
      "cell_type": "code",
      "source": [
        "sequence, label\n",
        "AAAKT, 1\n",
        "AGTCT, 0\n",
        "..."
      ],
      "metadata": {
        "id": "9K-q1F09Tgdl"
      },
      "execution_count": null,
      "outputs": []
    },
    {
      "cell_type": "code",
      "execution_count": null,
      "metadata": {
        "id": "yeu2xdOqRgo5"
      },
      "outputs": [],
      "source": [
        "import pandas as pd\n",
        "from sklearn.model_selection import train_test_split\n",
        "from sklearn.preprocessing import LabelEncoder\n",
        "from sklearn.linear_model import Perceptron\n",
        "from sklearn.metrics import accuracy_score\n",
        "\n",
        "# Загрузка данных\n",
        "data = pd.read_csv('epitopes.csv')\n",
        "\n",
        "# Преобразование последовательностей в числовые векторы\n",
        "def sequence_to_vector(sequence):\n",
        "    amino_acids = 'ACDEFGHIKLMNPQRSTVWY'\n",
        "    vector = [amino_acids.index(aa) for aa in sequence]\n",
        "    return vector\n",
        "\n",
        "data['vector'] = data['sequence'].apply(sequence_to_vector)\n",
        "\n",
        "# Разделение на обучающую и тестовую выборки\n",
        "X = list(data['vector'])\n",
        "y = data['label']\n",
        "X_train, X_test, y_train, y_test = train_test_split(X, y, test_size=0.2, random_state=42)\n",
        "\n",
        "# Обучение перцептрона\n",
        "perceptron = Perceptron()\n",
        "perceptron.fit(X_train, y_train)\n",
        "\n",
        "# Оценка модели\n",
        "y_pred = perceptron.predict(X_test)\n",
        "accuracy = accuracy_score(y_test, y_pred)\n",
        "print(f'Accuracy: {accuracy}')\n",
        "\n",
        "# Прогнозирование\n",
        "def predict_epitope(sequence):\n",
        "    vector = sequence_to_vector(sequence)\n",
        "    prediction = perceptron.predict([vector])\n",
        "    return prediction[0]\n",
        "\n",
        "# Пример использования\n",
        "sequence = 'AAAKT'\n",
        "prediction = predict_epitope(sequence)\n",
        "print(f'Sequence: {sequence}, Prediction: {prediction}')"
      ]
    }
  ]
}