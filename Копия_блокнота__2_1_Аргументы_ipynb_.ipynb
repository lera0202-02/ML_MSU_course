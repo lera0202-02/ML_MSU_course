{
  "nbformat": 4,
  "nbformat_minor": 0,
  "metadata": {
    "colab": {
      "provenance": []
    },
    "kernelspec": {
      "name": "python3",
      "display_name": "Python 3"
    },
    "language_info": {
      "name": "python"
    }
  },
  "cells": [
    {
      "cell_type": "markdown",
      "source": [
        "# Задача 2.1. Аргументы\n",
        "\n",
        "В данном задании Вам предлагается дописать код решения задачи бинарной классификации на основе классификатора KNN. Шаблон кода приведён Вам в качестве входных данных, Вам необходимо дополнить его так, чтобы алгоритм K ближайших соседей был настроен в следующей конфигурации:\n",
        "\n",
        "- В качестве K должно быть выбрано значение 8\n",
        "- В качестве метрики должно быть использовано манхэттенское расстояние\n",
        "\n",
        "Для обучения модели разобьём выборку на тренировочную и тестовую при помощи функции train_test_split из модуля sklearn.model_selection. Подробнее об этой функции можно прочитать в [официальной документации sklearn](https://scikit-learn.org/stable/modules/generated/sklearn.model_selection.train_test_split.html):\n",
        "\n",
        "Настройте разбиение на тестовую и тренировочную выборку таким образом, чтобы 0.3 объектов попали в тестовую выборку.\n",
        "\n",
        "Оцените качество классификации на тестовой выборке при помощи [accuracy_score](https://scikit-learn.org/stable/modules/generated/sklearn.metrics.accuracy_score.html) (функция подсчета доли правильных ответов из sklearn.metrics)\n",
        "\n",
        "В качестве ответа укажите полученное качество на тестовой выборке, округлив ответ **вниз** до сотых."
      ],
      "metadata": {
        "id": "dT4P8Uu_ARp3"
      }
    },
    {
      "cell_type": "code",
      "source": [
        "import sklearn\n",
        "import numpy as np\n",
        "from sklearn.neighbors import KNeighborsClassifier\n",
        "from sklearn.datasets import load_breast_cancer\n",
        "from sklearn.metrics import accuracy_score\n",
        "from sklearn.model_selection import train_test_split\n",
        "\n",
        "random_seed = 4238\n",
        "np.random.seed(random_seed)\n",
        "\n",
        "X, y = load_breast_cancer(return_X_y=True)\n",
        "X_train, x_test, y_train, y_test = train_test_split(\n",
        "    X, y, test_size=0.3, shuffle=True, random_state=42\n",
        ")\n",
        "\n",
        "k_value = 8\n",
        "metric_value = 1  # 1 соответствует манхэттенскому расстоянию\n",
        "\n",
        "clf = KNeighborsClassifier(n_neighbors=k_value, p=metric_value)\n",
        "clf.fit(X_train, y_train)\n",
        "\n",
        "predictions = clf.predict(x_test)\n",
        "acc = accuracy_score(y_test, predictions)\n",
        "\n",
        "print(acc)"
      ],
      "metadata": {
        "id": "gA9LjU8XASlJ",
        "outputId": "020a24a6-d4cf-4294-a5d0-011b58862150",
        "colab": {
          "base_uri": "https://localhost:8080/"
        }
      },
      "execution_count": null,
      "outputs": [
        {
          "output_type": "stream",
          "name": "stdout",
          "text": [
            "0.9766081871345029\n"
          ]
        }
      ]
    },
    {
      "cell_type": "markdown",
      "source": [
        "## Примечания\n",
        "\n",
        "1. **Не меняйте значение random_state и random_seed!** Это может привести к неправильным ответам.\n",
        "\n",
        "2. Ответ должен быть записан в виде десятичной дроби через **точку** с двумя значащими цифрами. *Например: 0.11*"
      ],
      "metadata": {
        "id": "eU5j2kQwAx9m"
      }
    },
    {
      "cell_type": "code",
      "source": [],
      "metadata": {
        "id": "ZrIqgYUaAzGC"
      },
      "execution_count": null,
      "outputs": []
    }
  ]
}