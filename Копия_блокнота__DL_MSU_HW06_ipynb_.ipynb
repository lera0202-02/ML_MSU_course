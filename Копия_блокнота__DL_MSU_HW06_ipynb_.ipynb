{
  "cells": [
    {
      "cell_type": "markdown",
      "metadata": {
        "id": "jNtLJlW4v5VF"
      },
      "source": [
        "## Домашнее задание №6\n",
        "\n",
        "В данном задании мы попробуем решить задачу классификации текстов, при этом попробуем воспользоваться информативными векторными описаниями слов, о которых рассказывалось на лекции.\n",
        "\n",
        "Идея решения данной задачи заключается в следующем.\n",
        "Мы попробуем построить бинарный классификатор, основанный на нейронных сетях и логистической регрессии. Ему на вход подаётся некоторый вектор признаков. На выходе - значение предсказания построенной модели логистической регрессии (одно число).\n",
        "\n",
        "В качестве признаков предлагается использовать векторное представление текста. Это может быть либо классическая модель мешка слов, либо модель мешка эмбеддингов. Соответственно, модель должна по заданному векторному представлению каждого текста предсказать вероятности соответствующих классов.\n",
        "Т.е. нам нужно самостоятельно реализовать аналог sklearn.linear_model.LogisticRegression с помощью библиотеки PyTorch."
      ]
    },
    {
      "cell_type": "code",
      "execution_count": null,
      "metadata": {
        "id": "grIwIEWAv5VK"
      },
      "outputs": [],
      "source": [
        "# Не меняйте следующий блок кода! Он потребуется для дальнейшей работы\n",
        "# __________start of block__________\n",
        "from collections import Counter\n",
        "\n",
        "import numpy as np\n",
        "import pandas as pd\n",
        "\n",
        "from sklearn.base import BaseEstimator\n",
        "from sklearn.linear_model import LogisticRegression\n",
        "from sklearn import naive_bayes\n",
        "from sklearn.metrics import roc_auc_score, roc_curve, accuracy_score\n",
        "\n",
        "import torch\n",
        "from torch import nn\n",
        "from torch.nn import functional as F\n",
        "from torch.optim.lr_scheduler import StepLR, ReduceLROnPlateau\n",
        "\n",
        "\n",
        "\n",
        "from IPython import display\n",
        "import matplotlib.pyplot as plt\n",
        "%matplotlib inline\n",
        "\n",
        "\n",
        "out_dict = dict()\n",
        "device = torch.device('cuda') if torch.cuda.is_available() else torch.device('cpu')\n",
        "# __________end of block__________"
      ]
    },
    {
      "cell_type": "markdown",
      "metadata": {
        "id": "CijSj69Ov5VN"
      },
      "source": [
        "### Предобработка текста и токенизация\n",
        "\n"
      ]
    },
    {
      "cell_type": "markdown",
      "source": [
        "Для начала скачаем исходные данные:"
      ],
      "metadata": {
        "id": "mnb7DJI7yHx0"
      }
    },
    {
      "cell_type": "code",
      "source": [
        "df = pd.read_csv( # Считываем исходный набор данных, разделитель - символ табуляции, заголовок отсутствует\n",
        "    'https://github.com/clairett/pytorch-sentiment-classification/raw/master/data/SST2/train.tsv',\n",
        "    delimiter='\\t',\n",
        "    header=None\n",
        ")\n",
        "df.head(5) # Посмотрим на первые 5 строк в считанном наборе данных"
      ],
      "metadata": {
        "colab": {
          "base_uri": "https://localhost:8080/",
          "height": 206
        },
        "id": "pluzRuUqLJ1y",
        "outputId": "6d20e88e-a47d-48f6-d20b-0b966550407e"
      },
      "execution_count": null,
      "outputs": [
        {
          "output_type": "execute_result",
          "data": {
            "text/plain": [
              "                                                   0  1\n",
              "0  a stirring , funny and finally transporting re...  1\n",
              "1  apparently reassembled from the cutting room f...  0\n",
              "2  they presume their audience wo n't sit still f...  0\n",
              "3  this is a visually stunning rumination on love...  1\n",
              "4  jonathan parker 's bartleby should have been t...  1"
            ],
            "text/html": [
              "\n",
              "  <div id=\"df-233107fc-3e3a-49b2-af0e-d7d7d5fa5970\" class=\"colab-df-container\">\n",
              "    <div>\n",
              "<style scoped>\n",
              "    .dataframe tbody tr th:only-of-type {\n",
              "        vertical-align: middle;\n",
              "    }\n",
              "\n",
              "    .dataframe tbody tr th {\n",
              "        vertical-align: top;\n",
              "    }\n",
              "\n",
              "    .dataframe thead th {\n",
              "        text-align: right;\n",
              "    }\n",
              "</style>\n",
              "<table border=\"1\" class=\"dataframe\">\n",
              "  <thead>\n",
              "    <tr style=\"text-align: right;\">\n",
              "      <th></th>\n",
              "      <th>0</th>\n",
              "      <th>1</th>\n",
              "    </tr>\n",
              "  </thead>\n",
              "  <tbody>\n",
              "    <tr>\n",
              "      <th>0</th>\n",
              "      <td>a stirring , funny and finally transporting re...</td>\n",
              "      <td>1</td>\n",
              "    </tr>\n",
              "    <tr>\n",
              "      <th>1</th>\n",
              "      <td>apparently reassembled from the cutting room f...</td>\n",
              "      <td>0</td>\n",
              "    </tr>\n",
              "    <tr>\n",
              "      <th>2</th>\n",
              "      <td>they presume their audience wo n't sit still f...</td>\n",
              "      <td>0</td>\n",
              "    </tr>\n",
              "    <tr>\n",
              "      <th>3</th>\n",
              "      <td>this is a visually stunning rumination on love...</td>\n",
              "      <td>1</td>\n",
              "    </tr>\n",
              "    <tr>\n",
              "      <th>4</th>\n",
              "      <td>jonathan parker 's bartleby should have been t...</td>\n",
              "      <td>1</td>\n",
              "    </tr>\n",
              "  </tbody>\n",
              "</table>\n",
              "</div>\n",
              "    <div class=\"colab-df-buttons\">\n",
              "\n",
              "  <div class=\"colab-df-container\">\n",
              "    <button class=\"colab-df-convert\" onclick=\"convertToInteractive('df-233107fc-3e3a-49b2-af0e-d7d7d5fa5970')\"\n",
              "            title=\"Convert this dataframe to an interactive table.\"\n",
              "            style=\"display:none;\">\n",
              "\n",
              "  <svg xmlns=\"http://www.w3.org/2000/svg\" height=\"24px\" viewBox=\"0 -960 960 960\">\n",
              "    <path d=\"M120-120v-720h720v720H120Zm60-500h600v-160H180v160Zm220 220h160v-160H400v160Zm0 220h160v-160H400v160ZM180-400h160v-160H180v160Zm440 0h160v-160H620v160ZM180-180h160v-160H180v160Zm440 0h160v-160H620v160Z\"/>\n",
              "  </svg>\n",
              "    </button>\n",
              "\n",
              "  <style>\n",
              "    .colab-df-container {\n",
              "      display:flex;\n",
              "      gap: 12px;\n",
              "    }\n",
              "\n",
              "    .colab-df-convert {\n",
              "      background-color: #E8F0FE;\n",
              "      border: none;\n",
              "      border-radius: 50%;\n",
              "      cursor: pointer;\n",
              "      display: none;\n",
              "      fill: #1967D2;\n",
              "      height: 32px;\n",
              "      padding: 0 0 0 0;\n",
              "      width: 32px;\n",
              "    }\n",
              "\n",
              "    .colab-df-convert:hover {\n",
              "      background-color: #E2EBFA;\n",
              "      box-shadow: 0px 1px 2px rgba(60, 64, 67, 0.3), 0px 1px 3px 1px rgba(60, 64, 67, 0.15);\n",
              "      fill: #174EA6;\n",
              "    }\n",
              "\n",
              "    .colab-df-buttons div {\n",
              "      margin-bottom: 4px;\n",
              "    }\n",
              "\n",
              "    [theme=dark] .colab-df-convert {\n",
              "      background-color: #3B4455;\n",
              "      fill: #D2E3FC;\n",
              "    }\n",
              "\n",
              "    [theme=dark] .colab-df-convert:hover {\n",
              "      background-color: #434B5C;\n",
              "      box-shadow: 0px 1px 3px 1px rgba(0, 0, 0, 0.15);\n",
              "      filter: drop-shadow(0px 1px 2px rgba(0, 0, 0, 0.3));\n",
              "      fill: #FFFFFF;\n",
              "    }\n",
              "  </style>\n",
              "\n",
              "    <script>\n",
              "      const buttonEl =\n",
              "        document.querySelector('#df-233107fc-3e3a-49b2-af0e-d7d7d5fa5970 button.colab-df-convert');\n",
              "      buttonEl.style.display =\n",
              "        google.colab.kernel.accessAllowed ? 'block' : 'none';\n",
              "\n",
              "      async function convertToInteractive(key) {\n",
              "        const element = document.querySelector('#df-233107fc-3e3a-49b2-af0e-d7d7d5fa5970');\n",
              "        const dataTable =\n",
              "          await google.colab.kernel.invokeFunction('convertToInteractive',\n",
              "                                                    [key], {});\n",
              "        if (!dataTable) return;\n",
              "\n",
              "        const docLinkHtml = 'Like what you see? Visit the ' +\n",
              "          '<a target=\"_blank\" href=https://colab.research.google.com/notebooks/data_table.ipynb>data table notebook</a>'\n",
              "          + ' to learn more about interactive tables.';\n",
              "        element.innerHTML = '';\n",
              "        dataTable['output_type'] = 'display_data';\n",
              "        await google.colab.output.renderOutput(dataTable, element);\n",
              "        const docLink = document.createElement('div');\n",
              "        docLink.innerHTML = docLinkHtml;\n",
              "        element.appendChild(docLink);\n",
              "      }\n",
              "    </script>\n",
              "  </div>\n",
              "\n",
              "\n",
              "<div id=\"df-f3163b6c-40ff-47d2-bdb3-cc3f05c96efb\">\n",
              "  <button class=\"colab-df-quickchart\" onclick=\"quickchart('df-f3163b6c-40ff-47d2-bdb3-cc3f05c96efb')\"\n",
              "            title=\"Suggest charts\"\n",
              "            style=\"display:none;\">\n",
              "\n",
              "<svg xmlns=\"http://www.w3.org/2000/svg\" height=\"24px\"viewBox=\"0 0 24 24\"\n",
              "     width=\"24px\">\n",
              "    <g>\n",
              "        <path d=\"M19 3H5c-1.1 0-2 .9-2 2v14c0 1.1.9 2 2 2h14c1.1 0 2-.9 2-2V5c0-1.1-.9-2-2-2zM9 17H7v-7h2v7zm4 0h-2V7h2v10zm4 0h-2v-4h2v4z\"/>\n",
              "    </g>\n",
              "</svg>\n",
              "  </button>\n",
              "\n",
              "<style>\n",
              "  .colab-df-quickchart {\n",
              "      --bg-color: #E8F0FE;\n",
              "      --fill-color: #1967D2;\n",
              "      --hover-bg-color: #E2EBFA;\n",
              "      --hover-fill-color: #174EA6;\n",
              "      --disabled-fill-color: #AAA;\n",
              "      --disabled-bg-color: #DDD;\n",
              "  }\n",
              "\n",
              "  [theme=dark] .colab-df-quickchart {\n",
              "      --bg-color: #3B4455;\n",
              "      --fill-color: #D2E3FC;\n",
              "      --hover-bg-color: #434B5C;\n",
              "      --hover-fill-color: #FFFFFF;\n",
              "      --disabled-bg-color: #3B4455;\n",
              "      --disabled-fill-color: #666;\n",
              "  }\n",
              "\n",
              "  .colab-df-quickchart {\n",
              "    background-color: var(--bg-color);\n",
              "    border: none;\n",
              "    border-radius: 50%;\n",
              "    cursor: pointer;\n",
              "    display: none;\n",
              "    fill: var(--fill-color);\n",
              "    height: 32px;\n",
              "    padding: 0;\n",
              "    width: 32px;\n",
              "  }\n",
              "\n",
              "  .colab-df-quickchart:hover {\n",
              "    background-color: var(--hover-bg-color);\n",
              "    box-shadow: 0 1px 2px rgba(60, 64, 67, 0.3), 0 1px 3px 1px rgba(60, 64, 67, 0.15);\n",
              "    fill: var(--button-hover-fill-color);\n",
              "  }\n",
              "\n",
              "  .colab-df-quickchart-complete:disabled,\n",
              "  .colab-df-quickchart-complete:disabled:hover {\n",
              "    background-color: var(--disabled-bg-color);\n",
              "    fill: var(--disabled-fill-color);\n",
              "    box-shadow: none;\n",
              "  }\n",
              "\n",
              "  .colab-df-spinner {\n",
              "    border: 2px solid var(--fill-color);\n",
              "    border-color: transparent;\n",
              "    border-bottom-color: var(--fill-color);\n",
              "    animation:\n",
              "      spin 1s steps(1) infinite;\n",
              "  }\n",
              "\n",
              "  @keyframes spin {\n",
              "    0% {\n",
              "      border-color: transparent;\n",
              "      border-bottom-color: var(--fill-color);\n",
              "      border-left-color: var(--fill-color);\n",
              "    }\n",
              "    20% {\n",
              "      border-color: transparent;\n",
              "      border-left-color: var(--fill-color);\n",
              "      border-top-color: var(--fill-color);\n",
              "    }\n",
              "    30% {\n",
              "      border-color: transparent;\n",
              "      border-left-color: var(--fill-color);\n",
              "      border-top-color: var(--fill-color);\n",
              "      border-right-color: var(--fill-color);\n",
              "    }\n",
              "    40% {\n",
              "      border-color: transparent;\n",
              "      border-right-color: var(--fill-color);\n",
              "      border-top-color: var(--fill-color);\n",
              "    }\n",
              "    60% {\n",
              "      border-color: transparent;\n",
              "      border-right-color: var(--fill-color);\n",
              "    }\n",
              "    80% {\n",
              "      border-color: transparent;\n",
              "      border-right-color: var(--fill-color);\n",
              "      border-bottom-color: var(--fill-color);\n",
              "    }\n",
              "    90% {\n",
              "      border-color: transparent;\n",
              "      border-bottom-color: var(--fill-color);\n",
              "    }\n",
              "  }\n",
              "</style>\n",
              "\n",
              "  <script>\n",
              "    async function quickchart(key) {\n",
              "      const quickchartButtonEl =\n",
              "        document.querySelector('#' + key + ' button');\n",
              "      quickchartButtonEl.disabled = true;  // To prevent multiple clicks.\n",
              "      quickchartButtonEl.classList.add('colab-df-spinner');\n",
              "      try {\n",
              "        const charts = await google.colab.kernel.invokeFunction(\n",
              "            'suggestCharts', [key], {});\n",
              "      } catch (error) {\n",
              "        console.error('Error during call to suggestCharts:', error);\n",
              "      }\n",
              "      quickchartButtonEl.classList.remove('colab-df-spinner');\n",
              "      quickchartButtonEl.classList.add('colab-df-quickchart-complete');\n",
              "    }\n",
              "    (() => {\n",
              "      let quickchartButtonEl =\n",
              "        document.querySelector('#df-f3163b6c-40ff-47d2-bdb3-cc3f05c96efb button');\n",
              "      quickchartButtonEl.style.display =\n",
              "        google.colab.kernel.accessAllowed ? 'block' : 'none';\n",
              "    })();\n",
              "  </script>\n",
              "</div>\n",
              "    </div>\n",
              "  </div>\n"
            ]
          },
          "metadata": {},
          "execution_count": 19
        }
      ]
    },
    {
      "cell_type": "markdown",
      "source": [
        "Исходный набор данных представляет собой список отзывов на различные фильмы, а также тональность соответствующего отзыва (положительный или отрицательный). Вам нужно решить задачу сентимент-анализа, т.е. построить бинарный классификатор, который позволит по известному отзыву сказать, положительный он или отрицательный."
      ],
      "metadata": {
        "id": "YTzEErj5SknP"
      }
    },
    {
      "cell_type": "markdown",
      "source": [
        "Предобработка входных данных достаточно проста и подробно описывается в комментариях к коду.\n",
        "\n",
        "Библиотека [`nltk`](https://www.nltk.org) широко используется при обработке текстов. По ссылке выше можно найти ее развернутое описание и документацию."
      ],
      "metadata": {
        "id": "sjblIRQbyFSp"
      }
    },
    {
      "cell_type": "code",
      "execution_count": null,
      "metadata": {
        "id": "a4eS0LjK1dXR",
        "outputId": "1a44f30f-4d00-49c4-a1bd-08448c9f06e9",
        "colab": {
          "base_uri": "https://localhost:8080/"
        }
      },
      "outputs": [
        {
          "output_type": "stream",
          "name": "stdout",
          "text": [
            "before: How to be a grown-up at work: replace \"I don't want to do that\" with \"Ok, great!\".\n",
            "after: how to be a grown - up at work : replace \" i don ' t want to do that \" with \" ok , great !\".\n"
          ]
        }
      ],
      "source": [
        "# Не изменяйте следующий блок кода! Он нужен для корректной предобработки входных данных\n",
        "\n",
        "# __________start of block__________\n",
        "\n",
        "texts_train = df[0].values[:5000] # В качестве обучающей выборки выбираем первые 5000 предложений\n",
        "y_train = df[1].values[:5000] # Каждому предложению соответствует некоторая метка класса - целое число\n",
        "texts_test = df[0].values[5000:] # В качестве тестовой выборки используем все оставшиеся предложения\n",
        "y_test = df[1].values[5000:]\n",
        "\n",
        "from nltk.tokenize import WordPunctTokenizer\n",
        "tokenizer = WordPunctTokenizer() # В качестве токенов будем использовать отдельные слова и знаки препинания\n",
        "\n",
        "# В качестве предобработки будем приводить текст к нижнему регистру.\n",
        "# Предобработанный текст будем представлять в виде выделенных токенов, разделённых пробелом\n",
        "preprocess = lambda text: ' '.join(tokenizer.tokenize(text.lower()))\n",
        "\n",
        "text = 'How to be a grown-up at work: replace \"I don\\'t want to do that\" with \"Ok, great!\".'\n",
        "print(\"before:\", text,)\n",
        "print(\"after:\", preprocess(text),) # Посмотрим, как работает предобработка для заданной строки text\n",
        "\n",
        "texts_train = [preprocess(text) for text in texts_train] # Получаем предобработанное представление для тренировочной выборки\n",
        "texts_test = [preprocess(text) for text in texts_test] # Аналогично получаем предобработанное представление для тестовой выборки\n",
        "\n",
        "# Выполняем небольшие проверки того, насколько корректно были обработаны тренировочная и тестовая выборки\n",
        "assert texts_train[5] ==  'campanella gets the tone just right funny in the middle of sad in the middle of hopeful'\n",
        "assert texts_test[74] == 'poetry in motion captured on film'\n",
        "assert len(texts_test) == len(y_test)\n",
        "# __________end of block__________"
      ]
    },
    {
      "cell_type": "markdown",
      "metadata": {
        "id": "pJsBBzBm1dXR"
      },
      "source": [
        "Следующие функции помогут вам с визуализацией процесса обучения сети."
      ]
    },
    {
      "cell_type": "code",
      "execution_count": null,
      "metadata": {
        "id": "TYySgm701dXS"
      },
      "outputs": [],
      "source": [
        "# Не изменяйте блок кода ниже!\n",
        "\n",
        "# __________start of block__________\n",
        "def plot_train_process(train_loss, val_loss, train_accuracy, val_accuracy, title_suffix=''):\n",
        "    fig, axes = plt.subplots(1, 2, figsize=(15, 5))\n",
        "\n",
        "    axes[0].set_title(' '.join(['Loss', title_suffix]))\n",
        "    axes[0].plot(train_loss, label='train')\n",
        "    axes[0].plot(val_loss, label='validation')\n",
        "    axes[0].legend()\n",
        "\n",
        "    axes[1].set_title(' '.join(['Validation accuracy', title_suffix]))\n",
        "    axes[1].plot(train_accuracy, label='train')\n",
        "    axes[1].plot(val_accuracy, label='validation')\n",
        "    axes[1].legend()\n",
        "    plt.show()\n",
        "\n",
        "def visualize_and_save_results(model, model_name, X_train, X_test, y_train, y_test, out_dict):\n",
        "    for data_name, X, y, model in [\n",
        "    ('train', X_train, y_train, model),\n",
        "    ('test', X_test, y_test, model)\n",
        "    ]:\n",
        "        if isinstance(model, BaseEstimator):\n",
        "            proba = model.predict_proba(X)[:, 1]\n",
        "        elif isinstance(model, nn.Module):\n",
        "            proba = model(X).detach().cpu().numpy()[:, 1]\n",
        "        else:\n",
        "            raise ValueError('Unrecognized model type')\n",
        "\n",
        "        auc = roc_auc_score(y, proba)\n",
        "\n",
        "        out_dict['{}_{}'.format(model_name, data_name)] = auc\n",
        "        plt.plot(*roc_curve(y, proba)[:2], label='%s AUC=%.4f' % (data_name, auc))\n",
        "\n",
        "    plt.plot([0, 1], [0, 1], '--', color='black',)\n",
        "    plt.legend(fontsize='large')\n",
        "    plt.title(model_name)\n",
        "    plt.grid()\n",
        "    return out_dict\n",
        "# __________end of block__________"
      ]
    },
    {
      "cell_type": "markdown",
      "metadata": {
        "id": "wgd0Mlzsv5VO"
      },
      "source": [
        "### Задача №1. Мешок слов.\n",
        "\n",
        "На лекции рассматривались подходы, позволяющие представить отдельные токены в виде векторов. Однако, в реальной жизни мы работаем с полноценными текстами.\n",
        "\n",
        "Как известно из лекции, **текст** -- последовательность токенов, длина которой **не фиксирована**. Соответственно, если каждый текст представлять матрицей, где каждый столбец будет являться векторным описанием очередного токена, мы будем получать для разных текстов матрицы разного размера. Как мы знаем, такие матрицы непригодны для передачи в нейронные сети, поскольку размер входных данных сети - всегда фиксирован. Поэтому нужно научиться представлять любой текст некоторым тензором (вектором или матрицей) фиксированного размера.\n",
        "\n",
        "Самый простой способ -- воспользоваться классическим подходом к векторизации текстов: мешком слов. На лекции упоминалось, что в таком подходе каждый токен может быть закодирован разреженным вектором, размер которого будет равен размеру словаря. Соответственно, чтобы получить векторное представление всего текста, достаточно сложить векторные представления всех входящих в него токенов.\n",
        "\n",
        "Первое, что мы рассмотрим - One-hot кодирование токенов. В этом случае мы приходим к тому, что текст будет представлен вектором, длина которого равна размеру словаря, N-ым значением в этом векторе будет количество употребления слова с индексом N в исходном тексте.\n",
        "\n",
        "Для реализации такого подхода вы можете как воспользоваться `CountVectorizer` из `sklearn`, так и самостоятельно реализованный вариант. Обращаем ваше внимание, в данной задаче используется лишь `k` наиболее часто встречаемых слов из обучающей части выборки."
      ]
    },
    {
      "cell_type": "code",
      "execution_count": null,
      "metadata": {
        "colab": {
          "base_uri": "https://localhost:8080/",
          "height": 452
        },
        "id": "ZNHFsVuPv5VP",
        "outputId": "8f06c299-b412-4457-849f-510d85052e8a"
      },
      "outputs": [
        {
          "output_type": "display_data",
          "data": {
            "text/plain": [
              "<Figure size 640x480 with 1 Axes>"
            ],
            "image/png": "[encoded data removed]"
          },
          "metadata": {}
        }
      ],
      "source": [
        "# Не изменяйте блок кода ниже!\n",
        "\n",
        "# __________start of block__________\n",
        "\n",
        "# Отбираем только k наиболее популярных слов в текстах\n",
        "\n",
        "k = min(10000, len(set(' '.join(texts_train).split()))) # Если в словаре меньше 10000 слов, то берём все слова, в противном случае выберем 10000 самых популярных\n",
        "\n",
        "# Построим словарь всех уникальных слов в обучающей выборке,\n",
        "# оставив только k наиболее популярных слов.\n",
        "\n",
        "counts = Counter(' '.join(texts_train).split())\n",
        "bow_vocabulary = [key for key, val in counts.most_common(k)]\n",
        "\n",
        "\n",
        "def text_to_bow(text):\n",
        "    \"\"\" Функция, позволяющая превратить входную строку в векторное представление на основании модели мешка слов. \"\"\"\n",
        "    sent_vec = np.zeros(len(bow_vocabulary))\n",
        "    counts = Counter(text.split())\n",
        "    for i, token in enumerate(bow_vocabulary):\n",
        "        if token in counts:\n",
        "            sent_vec[i] = counts[token]\n",
        "    return np.array(sent_vec, 'float32')\n",
        "\n",
        "X_train_bow = np.stack(list(map(text_to_bow, texts_train)))\n",
        "X_test_bow = np.stack(list(map(text_to_bow, texts_test)))\n",
        "\n",
        "# Небольшие проверки - они нужны, если Вы захотите реализовать собственную модель мешка слов.\n",
        "k_max = len(set(' '.join(texts_train).split()))\n",
        "assert X_train_bow.shape == (len(texts_train), min(k, k_max))\n",
        "assert X_test_bow.shape == (len(texts_test), min(k, k_max))\n",
        "assert np.all(X_train_bow[5:10].sum(-1) == np.array([len(s.split()) for s in  texts_train[5:10]]))\n",
        "assert len(bow_vocabulary) <= min(k, k_max)\n",
        "assert X_train_bow[65, bow_vocabulary.index('!')] == texts_train[65].split().count('!')\n",
        "\n",
        "\n",
        "# Строим модель логистической регрессии для полученных векторных представлений текстов\n",
        "bow_model = LogisticRegression(max_iter=1500).fit(X_train_bow, y_train)\n",
        "\n",
        "out_dict = visualize_and_save_results(bow_model, 'bow_log_reg_sklearn', X_train_bow, X_test_bow, y_train, y_test, out_dict)\n",
        "# __________end of block__________"
      ]
    },
    {
      "cell_type": "markdown",
      "metadata": {
        "id": "gSg1inPqv5VR"
      },
      "source": [
        "Результаты неплохие, но явно видно переобучение. Этот вывод можно сделать судя по значительному превосходству качества (AUC ROC) на train выборке относительно test. Более того, на обучающей выборке качество стремится к единице, в то время как на отложенной – значительно ниже, т.е. модель уловила множество зависимостей, свойственных лишь обучающей выборке. Базово проблема переобучения рассматривалась в курсе Машинного обучения. Более подробно она еще не раз встретится при дальнейшем прохождении курса.\n",
        "\n",
        "В данной задаче с переобучением мы разберемся в дальнейшем. Сейчас же реализуйте решение на основе логистической регрессии, но уже используя PyTorch. В результате вам должна быть доступна обученная модель, предсказывающая вероятности для двух классов. Качество на тестовой выборке должно не уступать логистической регрессии.\n",
        "\n",
        "Таким образом, нужно реализовать однослойную линейную сеть с использованием softmax в качестве функции активации и количеством выходов, равному количеству классов."
      ]
    },
    {
      "cell_type": "code",
      "source": [
        "import torch\n",
        "import torch.nn as nn\n",
        "import torch.optim as optim\n",
        "from torch.utils.data import DataLoader, TensorDataset\n",
        "from sklearn.metrics import roc_auc_score"
      ],
      "metadata": {
        "id": "QFkL8dvm_gpw"
      },
      "execution_count": null,
      "outputs": []
    },
    {
      "cell_type": "code",
      "source": [
        "# Создание тензоров PyTorch\n",
        "device = torch.device('cuda') if torch.cuda.is_available() else torch.device('cpu')\n",
        "X_train_tensor = torch.tensor(X_train_bow, dtype=torch.float32)\n",
        "X_test_tensor = torch.tensor(X_test_bow, dtype=torch.float32)\n",
        "y_train_tensor = torch.tensor(y_train, dtype=torch.long)\n",
        "y_test_tensor = torch.tensor(y_test, dtype=torch.long)"
      ],
      "metadata": {
        "id": "EQhH0015DZmS"
      },
      "execution_count": null,
      "outputs": []
    },
    {
      "cell_type": "code",
      "execution_count": null,
      "metadata": {
        "id": "YRN4ofOgv5VR"
      },
      "outputs": [],
      "source": [
        "\n",
        "# Определение параметров модели и обучение\n",
        "input_size = X_train_tensor.shape[1]\n",
        "learning_rate = 0.01\n",
        "epochs = 100\n",
        "\n",
        "# Обновленный класс модели\n",
        "class LogisticRegressionPyTorch(nn.Module):\n",
        "    def __init__(self, input_size):\n",
        "        super(LogisticRegressionPyTorch, self).__init__()\n",
        "        self.linear = nn.Linear(input_size, 2)  # 2 выхода для бинарной классификации\n",
        "        self.softmax = nn.Softmax(dim=1)\n",
        "\n",
        "    def forward(self, x):\n",
        "        x = self.linear(x)\n",
        "        x = self.softmax(x)\n",
        "        return x\n",
        "\n",
        "\n",
        "#model = #Вставьте сюда собственный код для реализации модели логистической регрессии (аналога sklearn.linear_model.LogisticRegression) с помощью PyTorch\n",
        "model = LogisticRegressionPyTorch(input_size).to(device)\n",
        "criterion = nn.CrossEntropyLoss()\n",
        "optimizer = torch.optim.Adam(model.parameters(), lr=learning_rate)"
      ]
    },
    {
      "cell_type": "markdown",
      "metadata": {
        "id": "HLx_3tOCv5VR"
      },
      "source": [
        "Не забывайте о функциях потерь: `nn.CrossEntropyLoss` объединяет в себе `LogSoftMax` и `NLLLoss`. Также не забывайте о необходимости перенести тензоры на используемый `device`."
      ]
    },
    {
      "cell_type": "code",
      "execution_count": null,
      "metadata": {
        "id": "W7dcCGLsv5VS"
      },
      "outputs": [],
      "source": [
        "loss_function = nn.CrossEntropyLoss()\n",
        "opt = torch.optim.Adam(model.parameters(), lr=1e-3)"
      ]
    },
    {
      "cell_type": "code",
      "execution_count": null,
      "metadata": {
        "id": "CK7iew17v5VS"
      },
      "outputs": [],
      "source": [
        "\n",
        "X_train_bow_torch = X_train_tensor.to(device)\n",
        "X_test_bow_torch = X_test_tensor.to(device)\n",
        "\n",
        "y_train_torch = y_train_tensor.to(device)\n",
        "y_test_torch = y_test_tensor.to(device)"
      ]
    },
    {
      "cell_type": "markdown",
      "metadata": {
        "id": "5kR9NIjv1dXU"
      },
      "source": [
        "Функция ниже поможет с обучением модели. Часть кода необходимо реализовать самостоятельно."
      ]
    },
    {
      "cell_type": "code",
      "execution_count": null,
      "metadata": {
        "id": "K4GGcyXYv5VT"
      },
      "outputs": [],
      "source": [
        "def train_model(\n",
        "    model,\n",
        "    opt,\n",
        "    X_train_torch,\n",
        "    y_train_torch,\n",
        "    X_val_torch,\n",
        "    y_val_torch,\n",
        "    n_iterations=500,\n",
        "    batch_size=32,\n",
        "    show_plots=True,\n",
        "    eval_every=50\n",
        "):\n",
        "    train_loss_history = []\n",
        "    train_acc_history = []\n",
        "    val_loss_history = []\n",
        "    val_acc_history = []\n",
        "\n",
        "    local_train_loss_history = []\n",
        "    local_train_acc_history = []\n",
        "    for i in range(n_iterations):\n",
        "\n",
        "        # Получаем случайный батч размера batch_size для проведения обучения\n",
        "        ix = np.random.randint(0, len(X_train_torch), batch_size)\n",
        "        x_batch = X_train_torch[ix]\n",
        "        y_batch = y_train_torch[ix]\n",
        "\n",
        "        # Предсказываем отклик (log-probabilities или logits)\n",
        "        y_predicted = model(x_batch)\n",
        "\n",
        "        # Вычисляем loss, как и выше\n",
        "        loss = loss_function(y_predicted, y_batch)\n",
        "\n",
        "        # Вычисляем градиенты\n",
        "        loss.backward()\n",
        "\n",
        "        # Adam step\n",
        "        opt.step()\n",
        "\n",
        "        # clear gradients\n",
        "        opt.zero_grad()\n",
        "\n",
        "        local_train_loss_history.append(loss.item())\n",
        "        local_train_acc_history.append(\n",
        "            accuracy_score(\n",
        "                y_batch.to('cpu').detach().numpy(),\n",
        "                y_predicted.to('cpu').detach().numpy().argmax(axis=1)\n",
        "            )\n",
        "        )\n",
        "\n",
        "        if i % eval_every == 0:\n",
        "            train_loss_history.append(np.mean(local_train_loss_history))\n",
        "            train_acc_history.append(np.mean(local_train_acc_history))\n",
        "            local_train_loss_history, local_train_acc_history = [], []\n",
        "\n",
        "            predictions_val = model(X_val_torch)\n",
        "            val_loss_history.append(loss_function(predictions_val, y_val_torch).to('cpu').detach().item())\n",
        "\n",
        "            acc_score_val = accuracy_score(y_val_torch.cpu().numpy(), predictions_val.to('cpu').detach().numpy().argmax(axis=1))\n",
        "            val_acc_history.append(acc_score_val)\n",
        "\n",
        "            if show_plots:\n",
        "                display.clear_output(wait=True)\n",
        "                plot_train_process(train_loss_history, val_loss_history, train_acc_history, val_acc_history)\n",
        "    return model"
      ]
    },
    {
      "cell_type": "code",
      "execution_count": null,
      "metadata": {
        "id": "TILA0_Aiv5VU",
        "colab": {
          "base_uri": "https://localhost:8080/",
          "height": 326
        },
        "outputId": "1eefd1da-f367-4b22-9681-46b14eb088b6"
      },
      "outputs": [
        {
          "output_type": "display_data",
          "data": {
            "text/plain": [
              "<Figure size 1500x500 with 2 Axes>"
            ],
            "image/png": "[encoded data removed]"
          },
          "metadata": {}
        }
      ],
      "source": [
        "bow_nn_model = train_model(model, opt, X_train_bow_torch, y_train_torch, X_test_bow_torch, y_test_torch, n_iterations=3000)"
      ]
    },
    {
      "cell_type": "code",
      "execution_count": null,
      "metadata": {
        "id": "G7Yt_q4C1dXU",
        "colab": {
          "base_uri": "https://localhost:8080/",
          "height": 452
        },
        "outputId": "6b923412-19b4-42b9-f62a-c92245e3162f"
      },
      "outputs": [
        {
          "output_type": "display_data",
          "data": {
            "text/plain": [
              "<Figure size 640x480 with 1 Axes>"
            ],
            "image/png": "[encoded data removed]"
          },
          "metadata": {}
        }
      ],
      "source": [
        "# Не изменяйте блок кода ниже!\n",
        "# __________start of block__________\n",
        "out_dict = visualize_and_save_results(bow_nn_model, 'bow_nn_torch', X_train_bow_torch, X_test_bow_torch, y_train, y_test, out_dict)\n",
        "\n",
        "assert out_dict['bow_log_reg_sklearn_test'] - out_dict['bow_nn_torch_test'] < 0.01, 'AUC ROC on test data should be close to the sklearn implementation'\n",
        "# __________end of block__________"
      ]
    },
    {
      "cell_type": "markdown",
      "metadata": {
        "id": "ZEt4byBxv5VU"
      },
      "source": [
        "А теперь повторите процедуру обучения выше, но для различных значений `k` – размера словаря. В список results сохраните `AUC ROC` на тестовой части выборки для модели, обученной со словарем размера `k`."
      ]
    },
    {
      "cell_type": "code",
      "execution_count": null,
      "metadata": {
        "id": "jq9qxODpv5VU",
        "colab": {
          "base_uri": "https://localhost:8080/",
          "height": 443
        },
        "outputId": "bc112326-b3b8-4a61-e6c2-d0543e33e193"
      },
      "outputs": [
        {
          "output_type": "error",
          "ename": "RuntimeError",
          "evalue": "ignored",
          "traceback": [
            "\u001b[0;31m---------------------------------------------------------------------------\u001b[0m",
            "\u001b[0;31mRuntimeError\u001b[0m                              Traceback (most recent call last)",
            "\u001b[0;32m<ipython-input-35-47c263ce0eab>\u001b[0m in \u001b[0;36m<cell line: 4>\u001b[0;34m()\u001b[0m\n\u001b[1;32m     29\u001b[0m     \u001b[0mdevice\u001b[0m \u001b[0;34m=\u001b[0m \u001b[0mtorch\u001b[0m\u001b[0;34m.\u001b[0m\u001b[0mdevice\u001b[0m\u001b[0;34m(\u001b[0m\u001b[0;34m'cuda'\u001b[0m\u001b[0;34m)\u001b[0m \u001b[0;32mif\u001b[0m \u001b[0mtorch\u001b[0m\u001b[0;34m.\u001b[0m\u001b[0mcuda\u001b[0m\u001b[0;34m.\u001b[0m\u001b[0mis_available\u001b[0m\u001b[0;34m(\u001b[0m\u001b[0;34m)\u001b[0m \u001b[0;32melse\u001b[0m \u001b[0mtorch\u001b[0m\u001b[0;34m.\u001b[0m\u001b[0mdevice\u001b[0m\u001b[0;34m(\u001b[0m\u001b[0;34m'cpu'\u001b[0m\u001b[0;34m)\u001b[0m\u001b[0;34m\u001b[0m\u001b[0;34m\u001b[0m\u001b[0m\n\u001b[1;32m     30\u001b[0m \u001b[0;34m\u001b[0m\u001b[0m\n\u001b[0;32m---> 31\u001b[0;31m     model_k = train_model(\n\u001b[0m\u001b[1;32m     32\u001b[0m         \u001b[0mmodel_k\u001b[0m\u001b[0;34m,\u001b[0m\u001b[0;34m\u001b[0m\u001b[0;34m\u001b[0m\u001b[0m\n\u001b[1;32m     33\u001b[0m         \u001b[0moptimizer_k\u001b[0m\u001b[0;34m,\u001b[0m\u001b[0;34m\u001b[0m\u001b[0;34m\u001b[0m\u001b[0m\n",
            "\u001b[0;32m<ipython-input-29-988c9bd5e462>\u001b[0m in \u001b[0;36mtrain_model\u001b[0;34m(model, opt, X_train_torch, y_train_torch, X_val_torch, y_val_torch, n_iterations, batch_size, show_plots, eval_every)\u001b[0m\n\u001b[1;32m     54\u001b[0m \u001b[0;34m\u001b[0m\u001b[0m\n\u001b[1;32m     55\u001b[0m             \u001b[0mpredictions_val\u001b[0m \u001b[0;34m=\u001b[0m \u001b[0mmodel\u001b[0m\u001b[0;34m(\u001b[0m\u001b[0mX_val_torch\u001b[0m\u001b[0;34m)\u001b[0m\u001b[0;34m\u001b[0m\u001b[0;34m\u001b[0m\u001b[0m\n\u001b[0;32m---> 56\u001b[0;31m             \u001b[0mval_loss_history\u001b[0m\u001b[0;34m.\u001b[0m\u001b[0mappend\u001b[0m\u001b[0;34m(\u001b[0m\u001b[0mloss_function\u001b[0m\u001b[0;34m(\u001b[0m\u001b[0mpredictions_val\u001b[0m\u001b[0;34m,\u001b[0m \u001b[0my_val_torch\u001b[0m\u001b[0;34m)\u001b[0m\u001b[0;34m.\u001b[0m\u001b[0mto\u001b[0m\u001b[0;34m(\u001b[0m\u001b[0;34m'cpu'\u001b[0m\u001b[0;34m)\u001b[0m\u001b[0;34m.\u001b[0m\u001b[0mdetach\u001b[0m\u001b[0;34m(\u001b[0m\u001b[0;34m)\u001b[0m\u001b[0;34m.\u001b[0m\u001b[0mitem\u001b[0m\u001b[0;34m(\u001b[0m\u001b[0;34m)\u001b[0m\u001b[0;34m)\u001b[0m\u001b[0;34m\u001b[0m\u001b[0;34m\u001b[0m\u001b[0m\n\u001b[0m\u001b[1;32m     57\u001b[0m \u001b[0;34m\u001b[0m\u001b[0m\n\u001b[1;32m     58\u001b[0m             \u001b[0macc_score_val\u001b[0m \u001b[0;34m=\u001b[0m \u001b[0maccuracy_score\u001b[0m\u001b[0;34m(\u001b[0m\u001b[0my_val_torch\u001b[0m\u001b[0;34m.\u001b[0m\u001b[0mcpu\u001b[0m\u001b[0;34m(\u001b[0m\u001b[0;34m)\u001b[0m\u001b[0;34m.\u001b[0m\u001b[0mnumpy\u001b[0m\u001b[0;34m(\u001b[0m\u001b[0;34m)\u001b[0m\u001b[0;34m,\u001b[0m \u001b[0mpredictions_val\u001b[0m\u001b[0;34m.\u001b[0m\u001b[0mto\u001b[0m\u001b[0;34m(\u001b[0m\u001b[0;34m'cpu'\u001b[0m\u001b[0;34m)\u001b[0m\u001b[0;34m.\u001b[0m\u001b[0mdetach\u001b[0m\u001b[0;34m(\u001b[0m\u001b[0;34m)\u001b[0m\u001b[0;34m.\u001b[0m\u001b[0mnumpy\u001b[0m\u001b[0;34m(\u001b[0m\u001b[0;34m)\u001b[0m\u001b[0;34m.\u001b[0m\u001b[0margmax\u001b[0m\u001b[0;34m(\u001b[0m\u001b[0maxis\u001b[0m\u001b[0;34m=\u001b[0m\u001b[0;36m1\u001b[0m\u001b[0;34m)\u001b[0m\u001b[0;34m)\u001b[0m\u001b[0;34m\u001b[0m\u001b[0;34m\u001b[0m\u001b[0m\n",
            "\u001b[0;32m/usr/local/lib/python3.10/dist-packages/torch/nn/modules/module.py\u001b[0m in \u001b[0;36m_wrapped_call_impl\u001b[0;34m(self, *args, **kwargs)\u001b[0m\n\u001b[1;32m   1516\u001b[0m             \u001b[0;32mreturn\u001b[0m \u001b[0mself\u001b[0m\u001b[0;34m.\u001b[0m\u001b[0m_compiled_call_impl\u001b[0m\u001b[0;34m(\u001b[0m\u001b[0;34m*\u001b[0m\u001b[0margs\u001b[0m\u001b[0;34m,\u001b[0m \u001b[0;34m**\u001b[0m\u001b[0mkwargs\u001b[0m\u001b[0;34m)\u001b[0m  \u001b[0;31m# type: ignore[misc]\u001b[0m\u001b[0;34m\u001b[0m\u001b[0;34m\u001b[0m\u001b[0m\n\u001b[1;32m   1517\u001b[0m         \u001b[0;32melse\u001b[0m\u001b[0;34m:\u001b[0m\u001b[0;34m\u001b[0m\u001b[0;34m\u001b[0m\u001b[0m\n\u001b[0;32m-> 1518\u001b[0;31m             \u001b[0;32mreturn\u001b[0m \u001b[0mself\u001b[0m\u001b[0;34m.\u001b[0m\u001b[0m_call_impl\u001b[0m\u001b[0;34m(\u001b[0m\u001b[0;34m*\u001b[0m\u001b[0margs\u001b[0m\u001b[0;34m,\u001b[0m \u001b[0;34m**\u001b[0m\u001b[0mkwargs\u001b[0m\u001b[0;34m)\u001b[0m\u001b[0;34m\u001b[0m\u001b[0;34m\u001b[0m\u001b[0m\n\u001b[0m\u001b[1;32m   1519\u001b[0m \u001b[0;34m\u001b[0m\u001b[0m\n\u001b[1;32m   1520\u001b[0m     \u001b[0;32mdef\u001b[0m \u001b[0m_call_impl\u001b[0m\u001b[0;34m(\u001b[0m\u001b[0mself\u001b[0m\u001b[0;34m,\u001b[0m \u001b[0;34m*\u001b[0m\u001b[0margs\u001b[0m\u001b[0;34m,\u001b[0m \u001b[0;34m**\u001b[0m\u001b[0mkwargs\u001b[0m\u001b[0;34m)\u001b[0m\u001b[0;34m:\u001b[0m\u001b[0;34m\u001b[0m\u001b[0;34m\u001b[0m\u001b[0m\n",
            "\u001b[0;32m/usr/local/lib/python3.10/dist-packages/torch/nn/modules/module.py\u001b[0m in \u001b[0;36m_call_impl\u001b[0;34m(self, *args, **kwargs)\u001b[0m\n\u001b[1;32m   1525\u001b[0m                 \u001b[0;32mor\u001b[0m \u001b[0m_global_backward_pre_hooks\u001b[0m \u001b[0;32mor\u001b[0m \u001b[0m_global_backward_hooks\u001b[0m\u001b[0;34m\u001b[0m\u001b[0;34m\u001b[0m\u001b[0m\n\u001b[1;32m   1526\u001b[0m                 or _global_forward_hooks or _global_forward_pre_hooks):\n\u001b[0;32m-> 1527\u001b[0;31m             \u001b[0;32mreturn\u001b[0m \u001b[0mforward_call\u001b[0m\u001b[0;34m(\u001b[0m\u001b[0;34m*\u001b[0m\u001b[0margs\u001b[0m\u001b[0;34m,\u001b[0m \u001b[0;34m**\u001b[0m\u001b[0mkwargs\u001b[0m\u001b[0;34m)\u001b[0m\u001b[0;34m\u001b[0m\u001b[0;34m\u001b[0m\u001b[0m\n\u001b[0m\u001b[1;32m   1528\u001b[0m \u001b[0;34m\u001b[0m\u001b[0m\n\u001b[1;32m   1529\u001b[0m         \u001b[0;32mtry\u001b[0m\u001b[0;34m:\u001b[0m\u001b[0;34m\u001b[0m\u001b[0;34m\u001b[0m\u001b[0m\n",
            "\u001b[0;32m/usr/local/lib/python3.10/dist-packages/torch/nn/modules/loss.py\u001b[0m in \u001b[0;36mforward\u001b[0;34m(self, input, target)\u001b[0m\n\u001b[1;32m   1177\u001b[0m \u001b[0;34m\u001b[0m\u001b[0m\n\u001b[1;32m   1178\u001b[0m     \u001b[0;32mdef\u001b[0m \u001b[0mforward\u001b[0m\u001b[0;34m(\u001b[0m\u001b[0mself\u001b[0m\u001b[0;34m,\u001b[0m \u001b[0minput\u001b[0m\u001b[0;34m:\u001b[0m \u001b[0mTensor\u001b[0m\u001b[0;34m,\u001b[0m \u001b[0mtarget\u001b[0m\u001b[0;34m:\u001b[0m \u001b[0mTensor\u001b[0m\u001b[0;34m)\u001b[0m \u001b[0;34m->\u001b[0m \u001b[0mTensor\u001b[0m\u001b[0;34m:\u001b[0m\u001b[0;34m\u001b[0m\u001b[0;34m\u001b[0m\u001b[0m\n\u001b[0;32m-> 1179\u001b[0;31m         return F.cross_entropy(input, target, weight=self.weight,\n\u001b[0m\u001b[1;32m   1180\u001b[0m                                \u001b[0mignore_index\u001b[0m\u001b[0;34m=\u001b[0m\u001b[0mself\u001b[0m\u001b[0;34m.\u001b[0m\u001b[0mignore_index\u001b[0m\u001b[0;34m,\u001b[0m \u001b[0mreduction\u001b[0m\u001b[0;34m=\u001b[0m\u001b[0mself\u001b[0m\u001b[0;34m.\u001b[0m\u001b[0mreduction\u001b[0m\u001b[0;34m,\u001b[0m\u001b[0;34m\u001b[0m\u001b[0;34m\u001b[0m\u001b[0m\n\u001b[1;32m   1181\u001b[0m                                label_smoothing=self.label_smoothing)\n",
            "\u001b[0;32m/usr/local/lib/python3.10/dist-packages/torch/nn/functional.py\u001b[0m in \u001b[0;36mcross_entropy\u001b[0;34m(input, target, weight, size_average, ignore_index, reduce, reduction, label_smoothing)\u001b[0m\n\u001b[1;32m   3051\u001b[0m     \u001b[0;32mif\u001b[0m \u001b[0msize_average\u001b[0m \u001b[0;32mis\u001b[0m \u001b[0;32mnot\u001b[0m \u001b[0;32mNone\u001b[0m \u001b[0;32mor\u001b[0m \u001b[0mreduce\u001b[0m \u001b[0;32mis\u001b[0m \u001b[0;32mnot\u001b[0m \u001b[0;32mNone\u001b[0m\u001b[0;34m:\u001b[0m\u001b[0;34m\u001b[0m\u001b[0;34m\u001b[0m\u001b[0m\n\u001b[1;32m   3052\u001b[0m         \u001b[0mreduction\u001b[0m \u001b[0;34m=\u001b[0m \u001b[0m_Reduction\u001b[0m\u001b[0;34m.\u001b[0m\u001b[0mlegacy_get_string\u001b[0m\u001b[0;34m(\u001b[0m\u001b[0msize_average\u001b[0m\u001b[0;34m,\u001b[0m \u001b[0mreduce\u001b[0m\u001b[0;34m)\u001b[0m\u001b[0;34m\u001b[0m\u001b[0;34m\u001b[0m\u001b[0m\n\u001b[0;32m-> 3053\u001b[0;31m     \u001b[0;32mreturn\u001b[0m \u001b[0mtorch\u001b[0m\u001b[0;34m.\u001b[0m\u001b[0m_C\u001b[0m\u001b[0;34m.\u001b[0m\u001b[0m_nn\u001b[0m\u001b[0;34m.\u001b[0m\u001b[0mcross_entropy_loss\u001b[0m\u001b[0;34m(\u001b[0m\u001b[0minput\u001b[0m\u001b[0;34m,\u001b[0m \u001b[0mtarget\u001b[0m\u001b[0;34m,\u001b[0m \u001b[0mweight\u001b[0m\u001b[0;34m,\u001b[0m \u001b[0m_Reduction\u001b[0m\u001b[0;34m.\u001b[0m\u001b[0mget_enum\u001b[0m\u001b[0;34m(\u001b[0m\u001b[0mreduction\u001b[0m\u001b[0;34m)\u001b[0m\u001b[0;34m,\u001b[0m \u001b[0mignore_index\u001b[0m\u001b[0;34m,\u001b[0m \u001b[0mlabel_smoothing\u001b[0m\u001b[0;34m)\u001b[0m\u001b[0;34m\u001b[0m\u001b[0;34m\u001b[0m\u001b[0m\n\u001b[0m\u001b[1;32m   3054\u001b[0m \u001b[0;34m\u001b[0m\u001b[0m\n\u001b[1;32m   3055\u001b[0m \u001b[0;34m\u001b[0m\u001b[0m\n",
            "\u001b[0;31mRuntimeError\u001b[0m: Expected all tensors to be on the same device, but found at least two devices, cuda:0 and cpu! (when checking argument for argument target in method wrapper_CUDA_nll_loss_forward)"
          ]
        }
      ],
      "source": [
        "vocab_sizes_list = np.arange(100, 5800, 700)\n",
        "results = []\n",
        "\n",
        "for k in vocab_sizes_list:\n",
        "    # Предобработка и создание Bag of Words\n",
        "    k_counts = Counter(' '.join(texts_train).split())\n",
        "    k_bow_vocabulary = [key for key, val in k_counts.most_common(k)]\n",
        "\n",
        "    def text_to_bow_k(text):\n",
        "        sent_vec = np.zeros(len(k_bow_vocabulary))\n",
        "        counts = Counter(text.split())\n",
        "        for i, token in enumerate(k_bow_vocabulary):\n",
        "            if token in counts:\n",
        "                sent_vec[i] = counts[token]\n",
        "        return np.array(sent_vec, 'float32')\n",
        "\n",
        "    device = torch.device('cuda') if torch.cuda.is_available() else torch.device('cpu')\n",
        "    X_train_bow_k = np.stack(list(map(text_to_bow_k, texts_train)))\n",
        "    X_test_bow_k = np.stack(list(map(text_to_bow_k, texts_test)))\n",
        "\n",
        "    X_train_torch_k = torch.tensor(X_train_bow_k, dtype=torch.float32).to(device)\n",
        "    X_test_torch_k = torch.tensor(X_test_bow_k, dtype=torch.float32).to(device)\n",
        "    y_train_torch_k = torch.tensor(y_train, dtype=torch.long).to(device)\n",
        "\n",
        "    # Создание и обучение модели\n",
        "    input_size_k = X_train_torch_k.shape[1]\n",
        "    model_k = LogisticRegressionPyTorch(input_size_k).to(device)\n",
        "    optimizer_k = torch.optim.Adam(model_k.parameters(), lr=learning_rate)\n",
        "    device = torch.device('cuda') if torch.cuda.is_available() else torch.device('cpu')\n",
        "\n",
        "    model_k = train_model(\n",
        "        model_k,\n",
        "        optimizer_k,\n",
        "        X_train_torch_k,\n",
        "        y_train_torch_k,\n",
        "        X_test_torch_k,\n",
        "        y_test_tensor,\n",
        "        n_iterations=500,\n",
        "        batch_size=32,\n",
        "        show_plots=False,\n",
        "        eval_every=50\n",
        "    )\n",
        "\n",
        "\n",
        "    predicted_probas_on_test_for_k_sized_dict = None\n",
        "    assert predicted_probas_on_test_for_k_sized_dict is not None\n",
        "    auc = roc_auc_score(y_test, predicted_probas_on_test_for_k_sized_dict)\n",
        "    results.append(auc)"
      ]
    },
    {
      "cell_type": "code",
      "execution_count": null,
      "metadata": {
        "id": "orzGPs201dXU"
      },
      "outputs": [],
      "source": [
        "# Не меняйте блок кода ниже!\n",
        "\n",
        "# __________start of block__________\n",
        "assert len(results) == len(vocab_sizes_list), 'Check the code above'\n",
        "assert min(results) >= 0.65, 'Seems like the model is not trained well enough'\n",
        "assert results[-1] > 0.84, 'Best AUC ROC should not be lower than 0.84'\n",
        "\n",
        "plt.plot(vocab_sizes_list, results)\n",
        "plt.xlabel('num of tokens')\n",
        "plt.ylabel('AUC')\n",
        "plt.grid()\n",
        "\n",
        "out_dict['bow_k_vary'] = results\n",
        "# __________end of block__________"
      ]
    },
    {
      "cell_type": "markdown",
      "metadata": {
        "id": "iA_3nEyHv5VV"
      },
      "source": [
        "### Задача №2: Использование TF-iDF признаков.\n",
        "\n",
        "Для векторизации текстов также можно воспользоваться TF-iDF. Это позволяет исключить из рассмотрения многие слова, не оказывающие значимого влияния при оценке непохожести текстов.\n",
        "\n",
        "В лекции уже упоминалось про то, как векторизовать отдельные токены с помощью этого подхода. Соответственно, векторным представлением текста будет являться вектор размера словаря, где в компоненте с номером N будет указано значение TF-IDF в данном тексте для токена с индексом N.\n",
        "\n",
        "Подробнее про TF-iDF можно почитать, например, [здесь](https://towardsdatascience.com/tf-idf-for-document-ranking-from-scratch-in-python-on-real-world-dataset-796d339a4089).\n",
        "Там же можно почитать о его самостоятельной реализации.\n",
        "\n",
        "Ваша задача: векторизовать тексты используя TF-iDF (или `TfidfVectorizer` из `sklearn`, или реализовав его самостоятельно) и построить классификатор с помощью PyTorch, аналогичный задаче №1.\n",
        "\n",
        "Затем также оцените качество классификации по AUC ROC для различных размеров словаря.\n",
        "\n",
        "Качество классификации должно быть не ниже 0.86 AUC ROC."
      ]
    },
    {
      "cell_type": "code",
      "execution_count": null,
      "metadata": {
        "id": "oR0DjU4A1dXV"
      },
      "outputs": [],
      "source": [
        "# Вставьте свой код для векторизации текстов с помощью TF-IDF"
      ]
    },
    {
      "cell_type": "code",
      "execution_count": null,
      "metadata": {
        "id": "THMktAtZNAqP"
      },
      "outputs": [],
      "source": [
        "X_train_tfidf = # your code here\n",
        "X_test_tfidf = # your code here"
      ]
    },
    {
      "cell_type": "code",
      "execution_count": null,
      "metadata": {
        "id": "xHbOlK1dyws8"
      },
      "outputs": [],
      "source": [
        "model = # your code here"
      ]
    },
    {
      "cell_type": "code",
      "execution_count": null,
      "metadata": {
        "id": "fioSJacvjr2v"
      },
      "outputs": [],
      "source": [
        "loss_function = # your code here\n",
        "opt = # your code here\n",
        "\n",
        "model_tf_idf = train_model(model, opt, X_train_tfidf_torch, y_train_torch, X_test_tfidf_torch, y_test_torch, n_iterations=3000)"
      ]
    },
    {
      "cell_type": "code",
      "execution_count": null,
      "metadata": {
        "id": "6uIcvpC01dXV"
      },
      "outputs": [],
      "source": [
        "# Не меняйте блок кода ниже!\n",
        "\n",
        "# __________start of block__________\n",
        "out_dict = visualize_and_save_results(model_tf_idf, 'tf_idf_nn_torch', X_train_tfidf_torch, X_test_tfidf_torch, y_train, y_test, out_dict)\n",
        "\n",
        "assert out_dict['tf_idf_nn_torch_test'] >= out_dict['bow_nn_torch_test'], 'AUC ROC on test data should be better or close to BoW for TF-iDF features'\n",
        "# __________end of block__________"
      ]
    },
    {
      "cell_type": "markdown",
      "metadata": {
        "id": "SMBDFtbJ1dXV"
      },
      "source": [
        "Аналогично задаче №1 повторите процедуру обучения для различных значений `k` – размера словаря и сохраните `AUC ROC` на тестовой части выборки в список `results`."
      ]
    },
    {
      "cell_type": "code",
      "execution_count": null,
      "metadata": {
        "id": "EIm9gbBk1dXV"
      },
      "outputs": [],
      "source": [
        "vocab_sizes_list = np.arange(100, 5800, 700)\n",
        "results = []\n",
        "\n",
        "for k in vocab_sizes_list:\n",
        "    # your code here\n",
        "    predicted_probas_on_test_for_k_sized_dict = None\n",
        "    assert predicted_probas_on_test_for_k_sized_dict is not None\n",
        "    auc = roc_auc_score(y_test, predicted_probas_on_test_for_k_sized_dict)\n",
        "    results.append(auc)"
      ]
    },
    {
      "cell_type": "code",
      "execution_count": null,
      "metadata": {
        "id": "i0Yp563U1dXV"
      },
      "outputs": [],
      "source": [
        "# Не меняйте блок кода ниже!\n",
        "\n",
        "# __________start of block__________\n",
        "assert len(results) == len(vocab_sizes_list), 'Check the code above'\n",
        "assert min(results) >= 0.65, 'Seems like the model is not trained well enough'\n",
        "assert results[-1] > 0.85, 'Best AUC ROC for TF-iDF should not be lower than 0.84'\n",
        "\n",
        "plt.plot(vocab_sizes_list, results)\n",
        "plt.xlabel('num of tokens')\n",
        "plt.ylabel('AUC')\n",
        "plt.grid()\n",
        "\n",
        "out_dict['tf_idf_k_vary'] = results\n",
        "# __________end of block__________"
      ]
    },
    {
      "cell_type": "markdown",
      "metadata": {
        "id": "Uo-aLAItv5VW"
      },
      "source": [
        "### Задача №3: Сравнение с Наивным Байесовским классификатором.\n",
        "\n",
        "Классические модели все еще способны показать хороший результат во многих задачах. Обучите наивный байесовский классификатор на текстах, векторизованных с помощью BoW и TF-iDF и сравните результаты с моделями выше.\n",
        "\n",
        "*Комментарий: обращаем ваше внимание, необходимо выбрать подходящее к данной задаче априорное распределение для признаков, т.е. выбрать верную версию классификатора из `sklearn`: `GaussianNB`, `MultinomialNB`, `ComplementNB`, `BernoulliNB`, `CategoricalNB`*"
      ]
    },
    {
      "cell_type": "code",
      "execution_count": null,
      "metadata": {
        "id": "TNhjnl0g1dXW"
      },
      "outputs": [],
      "source": [
        "from sklearn.naive_bayes import # your code here"
      ]
    },
    {
      "cell_type": "code",
      "execution_count": null,
      "metadata": {
        "id": "f5Hy-mJnW5Hc"
      },
      "outputs": [],
      "source": [
        "clf_nb_bow = # your code here\n",
        "\n",
        "# do not change the code in the block below\n",
        "# __________start of block__________\n",
        "out_dict = visualize_and_save_results(clf_nb_bow, 'bow_nb_sklearn', X_train_bow, X_test_bow, y_train, y_test, out_dict)\n",
        "# __________end of block__________"
      ]
    },
    {
      "cell_type": "code",
      "execution_count": null,
      "metadata": {
        "id": "SgHLlMnK1dXW"
      },
      "outputs": [],
      "source": [
        "clf_nb_tfidf = # your code here\n",
        "\n",
        "# do not change the code in the block below\n",
        "# __________start of block__________\n",
        "out_dict = visualize_and_save_results(clf_nb_tfidf, 'tf_idf_nb_sklearn', X_train_tfidf, X_test_tfidf, y_train, y_test, out_dict)\n",
        "# __________end of block__________"
      ]
    },
    {
      "cell_type": "code",
      "execution_count": null,
      "metadata": {
        "id": "5gMu3df_1dXW"
      },
      "outputs": [],
      "source": [
        "# do not change the code in the block below\n",
        "# __________start of block__________\n",
        "assert out_dict['tf_idf_nb_sklearn_test'] > out_dict['bow_nb_sklearn_test'],' TF-iDF results should be better'\n",
        "assert out_dict['tf_idf_nb_sklearn_test'] > 0.86, 'TF-iDF Naive Bayes score should be above 0.86'\n",
        "# __________end of block__________"
      ]
    },
    {
      "cell_type": "markdown",
      "metadata": {
        "id": "tvqsaoedv5VW"
      },
      "source": [
        "### Задача №4: Использование предобученных эмбеддингов\n",
        "\n",
        "Наконец, воспользуемся предобученными эмбеддингами из библиотеки `gensim`. В нем доступно несколько эмбеддингов, предобученных на различных корпусах текстов. Полный список можно найти [здесь](https://radimrehurek.com/gensim/models/word2vec.html#pretrained-models). Напоминаем, что лучше использовать те эмбеддинги, которые были обучены на текстах похожей структуры.\n",
        "\n",
        "Ваша задача: обучить модель (достаточно логистической регрессии или же двуслойной неронной сети), используя усредненный эмбеддинг для всех токенов в отзыве, добиться качества не хуже, чем с помощью BoW/TF-iDF и снизить степень переобучения (разницу между AUC ROC на обучающей и тестовой выборках)."
      ]
    },
    {
      "cell_type": "markdown",
      "source": [
        "**Обратите внимание!**\n",
        "\n",
        "В Google Colab установлена устаревшая версия библиотеки gensim, поэтому некоторые её обновлённые возможности могут не поддерживаться.\n",
        "\n",
        "Например, может возникать ошибка AttributeError.\n",
        "\n",
        "В этом случае нужно раскомментировать строку ниже, выполнить данную ячейку и повторно выполнить все последующие ячейки:"
      ],
      "metadata": {
        "id": "FwF5U5NK46Qj"
      }
    },
    {
      "cell_type": "code",
      "source": [
        "#!pip install --upgrade gensim"
      ],
      "metadata": {
        "id": "mEmWl47J4D5J"
      },
      "execution_count": null,
      "outputs": []
    },
    {
      "cell_type": "code",
      "execution_count": null,
      "metadata": {
        "id": "DP5td5Ivv5VW"
      },
      "outputs": [],
      "source": [
        "import gensim.downloader as api\n",
        "gensim_embedding_model = api.load(# your code here)"
      ]
    },
    {
      "cell_type": "code",
      "execution_count": null,
      "metadata": {
        "id": "sC8wyIqY6Ce9"
      },
      "outputs": [],
      "source": [
        "def text_to_average_embedding(text, gensim_embedding_model):\n",
        "    # your code here\n",
        "    return embedding_for_text"
      ]
    },
    {
      "cell_type": "code",
      "execution_count": null,
      "metadata": {
        "id": "yZ8-03TIJNjz"
      },
      "outputs": [],
      "source": [
        "X_train_emb = [text_to_average_embedding(text, gensim_embedding_model) for text in texts_train]\n",
        "X_test_emb = [text_to_average_embedding(text, gensim_embedding_model) for text in texts_test]\n",
        "\n",
        "assert len(X_train_emb[0]) == gensim_embedding_model.vector_size, 'Seems like the embedding shape is wrong'"
      ]
    },
    {
      "cell_type": "code",
      "execution_count": null,
      "metadata": {
        "id": "3Gw5B5JJ7Z1y"
      },
      "outputs": [],
      "source": [
        "X_train_emb_torch = # your code here\n",
        "X_test_emb_torch = # your code here\n",
        "\n",
        "y_train_torch = # your code here\n",
        "y_test_torch = # your code here"
      ]
    },
    {
      "cell_type": "code",
      "execution_count": null,
      "metadata": {
        "id": "6yQ2zL0bjgcD"
      },
      "outputs": [],
      "source": [
        "model = # your code here"
      ]
    },
    {
      "cell_type": "code",
      "execution_count": null,
      "metadata": {
        "id": "IP-Be_CRHI1f"
      },
      "outputs": [],
      "source": [
        "loss_function = # your code here\n",
        "opt = # your code here\n",
        "\n",
        "model = train_model(model, opt, X_train_emb_torch, y_train_torch, X_test_emb_torch, y_test_torch, n_iterations=3000)"
      ]
    },
    {
      "cell_type": "code",
      "execution_count": null,
      "metadata": {
        "id": "KI822IY21dXX"
      },
      "outputs": [],
      "source": [
        "# do not change the code in the block below\n",
        "# __________start of block__________\n",
        "\n",
        "out_dict = visualize_and_save_results(model, 'emb_nn_torch', X_train_emb_torch, X_test_emb_torch, y_train, y_test, out_dict)\n",
        "assert out_dict['emb_nn_torch_test'] > 0.87, 'AUC ROC on test data should be better than 0.86'\n",
        "assert out_dict['emb_nn_torch_train'] - out_dict['emb_nn_torch_test'] < 0.1, 'AUC ROC on test and train data should not be different more than by 0.1'\n",
        "# __________end of block__________"
      ]
    },
    {
      "cell_type": "markdown",
      "metadata": {
        "id": "hohtOwysavfv"
      },
      "source": [
        "### Сдача задания\n",
        "Запустите код ниже для генерации посылки и сдайте на проверку файл `submission_dict_hw06.npy`."
      ]
    },
    {
      "cell_type": "code",
      "execution_count": null,
      "metadata": {
        "id": "o-lidlX4a_mM"
      },
      "outputs": [],
      "source": [
        "# Не меняйте блок кода ниже!\n",
        "\n",
        "# __________start of block__________\n",
        "\n",
        "np.save('submission_dict_hw06.npy', out_dict, allow_pickle=True)\n",
        "print('File saved to `submission_dict_hw06.npy`')\n",
        "# __________end of block__________"
      ]
    },
    {
      "cell_type": "markdown",
      "source": [
        "### Описание возможных ошибок\n",
        "\n",
        "В Яндекс. Контест можно посмотреть вердикт по тестированию своей посылки. Для этого после проверки решения нужно открыть задачу на Яндекс. Контест и найтии внизу таблицу со списком отправленных посылок. Самая верхняя строка соответствует самой последней отправленной Вами посылке. В этой строке нужно  нажать справа на кнопку \"Отчёт\" (отмечена красным):\n",
        "\n"
      ],
      "metadata": {
        "id": "yXKIp5pD5Sjs"
      }
    },
    {
      "cell_type": "markdown",
      "source": [
        "После этого у Вас откроется окно с информацием по тестированию Вашего решения:"
      ],
      "metadata": {
        "id": "vxfJ6_eg8qVL"
      }
    },
    {
      "cell_type": "markdown",
      "source": [
        "Ниже представлено краткое описание тестов и причин, по которым они не могут быть пройдены:\n",
        "\n",
        "1. `test_tfidf_on_test` - значение ROC-AUC на тестовой выборке при применении TF-IDF к тестовому набору данных недостаточно высоко (см. условие).\n",
        "\n",
        "2. `test_tfidf_nb_first` - возможно, выбрано некорректное распределение для Наивного Байесовского классификатора, качество для BoW превосходит TF-IDF.\n",
        "\n",
        "3. `test_tfidf_nb_second` - возможно, выбрано некорректное распределение для Наивного Байесовского классификатора: качество на тестовой выборке ниже необходимого (см. условие).\n",
        "\n",
        "4. `test_embedding_on_test` - недостаточно высокое качество для модели на основе эмбеддингов.\n",
        "\n",
        "5. `test_embedding_overfit` - модель, использующая эмбеддинги, переобучается с большой долей вероятности."
      ],
      "metadata": {
        "id": "AMjx_axO87qf"
      }
    }
  ],
  "metadata": {
    "colab": {
      "provenance": [],
      "gpuType": "T4"
    },
    "kernelspec": {
      "display_name": "Py3 Research",
      "language": "python",
      "name": "py3_research_kernel"
    },
    "language_info": {
      "codemirror_mode": {
        "name": "ipython",
        "version": 3
      },
      "file_extension": ".py",
      "mimetype": "text/x-python",
      "name": "python",
      "nbconvert_exporter": "python",
      "pygments_lexer": "ipython3",
      "version": "3.9.7"
    },
    "accelerator": "GPU"
  },
  "nbformat": 4,
  "nbformat_minor": 0
}