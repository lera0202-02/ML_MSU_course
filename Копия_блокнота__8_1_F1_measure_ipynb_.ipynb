{
  "nbformat": 4,
  "nbformat_minor": 0,
  "metadata": {
    "colab": {
      "provenance": []
    },
    "kernelspec": {
      "name": "python3",
      "display_name": "Python 3"
    },
    "language_info": {
      "name": "python"
    }
  },
  "cells": [
    {
      "cell_type": "markdown",
      "source": [
        "# 8.1. F1-measure\n",
        "\n",
        "На [лекции](https://colab.research.google.com/drive/12xpYdqi1S4y68FYHym2rZ3wzHSm8cSLm?usp=sharing) мы подробно обсудили, что доля правильных ответов - не самая лучшая метрика оценки качества классификации. Довольно часто доля правильных ответов даёт смещенную оценку качества и способна ввести в заблуждение. По этой причине мы пользуемся метриками качества, которые называются *точностью* и *полнотой*, а также их комбинацией - *F1-мерой*. Ваша задача - реализовать функции `precision`, `recall` и `f1`. На вход всех этих функий подаются два вектора: `y_true`: вектор правильных ответов и `y_pred`: вектор предсказаний.\n",
        "\n",
        "В рамках выполнения этого задания можно использовать только модуль `numpy`."
      ],
      "metadata": {
        "id": "qnxzhw-2a0ie"
      }
    },
    {
      "cell_type": "code",
      "source": [
        "import numpy as np\n",
        "\n",
        "def precision(y_true, y_pred):\n",
        "    true_positive = np.sum((y_true == 1) & (y_pred == 1))\n",
        "    false_positive = np.sum((y_true == 0) & (y_pred == 1))\n",
        "\n",
        "    if true_positive + false_positive == 0:\n",
        "        return 0.0\n",
        "    else:\n",
        "        return true_positive / (true_positive + false_positive)\n",
        "\n",
        "def recall(y_true, y_pred):\n",
        "    true_positive = np.sum((y_true == 1) & (y_pred == 1))\n",
        "    false_negative = np.sum((y_true == 1) & (y_pred == 0))\n",
        "\n",
        "    if true_positive + false_negative == 0:\n",
        "        return 0.0\n",
        "    else:\n",
        "        return true_positive / (true_positive + false_negative)\n",
        "\n",
        "def f1(y_true, y_pred):\n",
        "    precision_value = precision(y_true, y_pred)\n",
        "    recall_value = recall(y_true, y_pred)\n",
        "\n",
        "    if precision_value + recall_value == 0:\n",
        "        return 0.0\n",
        "    else:\n",
        "        return 2 * (precision_value * recall_value) / (precision_value + recall_value)\n"
      ],
      "metadata": {
        "id": "HAaakmiJn93_"
      },
      "execution_count": null,
      "outputs": []
    }
  ]
}