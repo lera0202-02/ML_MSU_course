{
  "nbformat": 4,
  "nbformat_minor": 0,
  "metadata": {
    "colab": {
      "provenance": []
    },
    "kernelspec": {
      "name": "python3",
      "display_name": "Python 3"
    },
    "language_info": {
      "name": "python"
    }
  },
  "cells": [
    {
      "cell_type": "markdown",
      "source": [
        "# 8.2. Площади\n",
        "\n",
        "В этой задаче Вам требуется сравнить значения метрик для 4 различных алгоритмов. Для этого отредактируйте следующий код так, чтобы он соответствовал сформулированному заданию."
      ],
      "metadata": {
        "id": "3gwOwJTzuYfl"
      }
    },
    {
      "cell_type": "code",
      "execution_count": null,
      "metadata": {
        "id": "rjX6v8Y8uImZ"
      },
      "outputs": [],
      "source": [
        "from sklearn.datasets import fetch_openml\n",
        "from sklearn.model_selection import train_test_split\n",
        "from sklearn.neighbors import KNeighborsClassifier\n",
        "from sklearn.linear_model import LogisticRegression\n",
        "from sklearn.tree import DecisionTreeClassifier\n",
        "from sklearn.svm import SVC\n",
        "from sklearn.preprocessing import StandardScaler\n",
        "\"\"\"\n",
        "TODO: make additional imports here\n",
        "\"\"\"\n",
        "\n",
        "data = fetch_openml(data_id=42608)\n",
        "X, y = data['data'].drop(columns='Outcome').values, data['data']['Outcome'].astype(int).values\n",
        "\n",
        "X_train, x_test, y_train, y_test = train_test_split(\n",
        "    X, y, test_size=0.3, random_state=42\n",
        ")\n",
        "\n",
        "\"\"\"\n",
        "In the following part of code specify algorithms with their own parameters by yourself\n",
        "\"\"\"\n",
        "tree = DecisionTreeClassifier()\n",
        "lr = LogisticRegression()\n",
        "knn = KNeighborsClassifier()\n",
        "svm = SVC(probability=True)\n",
        "\n",
        "\"\"\"\n",
        "TODO: fit estimators and find best one\n",
        "\"\"\"\n"
      ]
    },
    {
      "cell_type": "code",
      "source": [
        "\n",
        "import numpy as np\n",
        "from sklearn.metrics import roc_auc_score, auc, precision_recall_curve\n",
        "from sklearn.preprocessing import StandardScaler\n",
        "\n",
        "# Дополнительные импорты\n",
        "from sklearn.tree import DecisionTreeClassifier\n",
        "from sklearn.linear_model import LogisticRegression\n",
        "from sklearn.neighbors import KNeighborsClassifier\n",
        "from sklearn.svm import SVC\n",
        "\n",
        "# Загрузка данных\n",
        "data = fetch_openml(data_id=42608)\n",
        "X, y = data['data'].drop(columns='Outcome').values, data['data']['Outcome'].astype(int).values\n",
        "\n",
        "# Разбиение данных на обучающий и тестовый наборы\n",
        "X_train, X_test, y_train, y_test = train_test_split(\n",
        "    X, y, test_size=0.3, random_state=42\n",
        ")\n",
        "\n",
        "# Применение StandardScaler\n",
        "scaler = StandardScaler()\n",
        "X_train_scaled = scaler.fit_transform(X_train)\n",
        "X_test_scaled = scaler.transform(X_test)\n",
        "\n",
        "# Инициализация классификаторов\n",
        "tree = DecisionTreeClassifier(random_state=42)\n",
        "lr = LogisticRegression(random_state=42)\n",
        "knn = KNeighborsClassifier(n_neighbors=5)\n",
        "svm = SVC(probability=True, random_state=42)\n",
        "\n",
        "# Обучение и оценка ROC AUC и PR AUC\n",
        "classifiers = [tree, lr, knn, svm]\n",
        "roc_auc_scores = []\n",
        "pr_auc_scores = []\n",
        "\n",
        "for classifier in classifiers:\n",
        "    classifier.fit(X_train_scaled, y_train)\n",
        "    y_pred_proba = classifier.predict_proba(X_test_scaled)[:, 1]\n",
        "\n",
        "    # Расчет ROC AUC\n",
        "    roc_auc = roc_auc_score(y_test, y_pred_proba)\n",
        "    roc_auc_scores.append(roc_auc)\n",
        "\n",
        "    # Расчет PR AUC\n",
        "    precision, recall, _ = precision_recall_curve(y_test, y_pred_proba)\n",
        "    pr_auc = auc(recall, precision)\n",
        "    pr_auc_scores.append(pr_auc)\n",
        "\n",
        "# Находим индексы алгоритмов с максимальными значениями ROC AUC и PR AUC\n",
        "best_roc_auc_index = np.argmax(roc_auc_scores)\n",
        "best_pr_auc_index = np.argmax(pr_auc_scores)\n",
        "\n",
        "# Вывод результата\n",
        "result = int(str(best_roc_auc_index + 1) + str(best_pr_auc_index + 1))\n",
        "print(result)\n"
      ],
      "metadata": {
        "colab": {
          "base_uri": "https://localhost:8080/"
        },
        "id": "0-Kv-hLhrCDQ",
        "outputId": "81f4d60e-cde5-43a3-8c14-ce54d7116389"
      },
      "execution_count": null,
      "outputs": [
        {
          "output_type": "stream",
          "name": "stdout",
          "text": [
            "21\n"
          ]
        },
        {
          "output_type": "stream",
          "name": "stderr",
          "text": [
            "/usr/local/lib/python3.10/dist-packages/sklearn/datasets/_openml.py:968: FutureWarning: The default value of `parser` will change from `'liac-arff'` to `'auto'` in 1.4. You can set `parser='auto'` to silence this warning. Therefore, an `ImportError` will be raised from 1.4 if the dataset is dense and pandas is not installed. Note that the pandas parser may return different data types. See the Notes Section in fetch_openml's API doc for details.\n",
            "  warn(\n"
          ]
        }
      ]
    },
    {
      "cell_type": "markdown",
      "source": [
        "## Примечания\n",
        "\n",
        "1. Обратите внимание, что StandardScaler может влиять на результаты работы алгоритмов. Поэтому рекомендуем его использовать.\n",
        "\n",
        "2. Когда мы разбиваем данные на train и test, мы должны понимать, что **все** алгоритмы должны обучаться **только на train**. Test при обучении **не используется**. Более того, в реальной жизни мы вообще ничего не знаем про test. Поэтому StandardScaler нужно обучать только на X_train, а к X_test делать только transform (**не** fit_transform)."
      ],
      "metadata": {
        "id": "PMPsE9S9N-nv"
      }
    }
  ]
}