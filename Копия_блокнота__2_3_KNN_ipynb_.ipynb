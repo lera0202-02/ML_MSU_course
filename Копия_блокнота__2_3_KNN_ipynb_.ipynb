{
  "nbformat": 4,
  "nbformat_minor": 0,
  "metadata": {
    "colab": {
      "provenance": []
    },
    "kernelspec": {
      "name": "python3",
      "display_name": "Python 3"
    },
    "language_info": {
      "name": "python"
    }
  },
  "cells": [
    {
      "cell_type": "markdown",
      "source": [
        "# Задача 2.3. KNN\n",
        "\n",
        "В этом задании Вам предлагается написать класс `KNN_classifier`, пригодный для решения задачи классификации (многоклассовой).\n",
        "\n",
        "Мы предлагаем Вам шаблон класса. В этом шаблоне заполните тела функций `.fit` и `.predict`\n",
        "\n",
        "В качестве функции близости используйте Евклидово расстояние между объектами (подробнее https://numpy.org/doc/stable/reference/generated/numpy.linalg.norm.html).\n",
        "\n",
        "Напоминание:\n",
        "\n",
        "* Функция `.fit(x, y)` производит обучение модели. В рамках этой функции необходимо реализовать подбор оптимальных параметров модели/сконфигурировать модель для дальнейшего использования на основе данной тренировочной выборки, где x - это матрица признакового описания выборки, а y - вектор ответов.\n",
        "\n",
        "* Функция `.predict(x)` осуществляет предсказание для каждого из объектов, чьи векторные описания представлены строками матрицы x. Выполняется строго после `.fit()`. Ради безопасности можно даже реализовать механизм отказа в виде выбрасывания специальной ошибки `UnfittedError` в случае попытки вызова функции `.predict()` до вызова функции `.fit()`.\n",
        "\n",
        "Замечание: не изменяйте названия класса и его методов. Это приведёт к ошибке при исполнении Вашего кода в процессе проверки задания. Тем не менее, Вы можете дописать свои собственные методы, если это необходимо.\n",
        "\n",
        "Шаблон класса:"
      ],
      "metadata": {
        "id": "giMUSayPBOYo"
      }
    },
    {
      "cell_type": "code",
      "source": [
        "import numpy as np\n",
        "\n",
        "\n",
        "class KNN_classifier:\n",
        "    def __init__(self, n_neighbors: int, **kwargs):\n",
        "        self.K = n_neighbors\n",
        "        self.X_train = None\n",
        "        self.y_train = None\n",
        "\n",
        "    def fit(self, x: np.array, y: np.array):\n",
        "        self.X_train = x\n",
        "        self.y_train = y\n",
        "\n",
        "    def predict(self, x: np.array):\n",
        "        if self.X_train is None or self.y_train is None:\n",
        "            raise ValueError(\"Модель не обучена. Пожалуйста, вызовите метод fit перед predict.\")\n",
        "\n",
        "        predictions = []\n",
        "        for sample in x:\n",
        "            distances = np.sqrt(np.sum((self.X_train - sample) ** 2, axis=1))\n",
        "            nearest_indices = np.argsort(distances)[:self.K]\n",
        "            nearest_labels = self.y_train[nearest_indices]\n",
        "            prediction = np.argmax(np.bincount(nearest_labels))\n",
        "            predictions.append(prediction)\n",
        "        return np.array(predictions)"
      ],
      "metadata": {
        "id": "CBKvZ_iukCbA"
      },
      "execution_count": null,
      "outputs": []
    },
    {
      "cell_type": "markdown",
      "source": [
        "## Примечания\n",
        "\n",
        "1. Вы можете проверить правильность выполнения задания посредством сравнения полученных результатов с функцией из соответствующего модуля `sklearn`.\n",
        "\n",
        "2. В рамках выполнения данного задания **запрещено** использовать функции из пакета `sklearn` и любого другого, кроме `numpy`. Код, использующий любые другие модули, не пройдёт тесты.\n",
        "\n",
        "3. **Подсказка:** если Вы испытываете сложности с реализацией этого задания, начните выполнять его с написания функции `.predict`. В процессе написания этой функции Вы поймёте, что конкретно Вам требуется получить от обучающей выборки, какую информацию и в каком видед извлечь из неё. Затем реализуйте это в функции `.fit`"
      ],
      "metadata": {
        "id": "z3o6dV1XBX6d"
      }
    },
    {
      "cell_type": "markdown",
      "source": [
        "*Курсив*## Пример входных и выходных данных"
      ],
      "metadata": {
        "id": "0Xo10b5J-xTX"
      }
    },
    {
      "cell_type": "code",
      "source": [
        "X"
      ],
      "metadata": {
        "colab": {
          "base_uri": "https://localhost:8080/",
          "height": 176
        },
        "id": "XJ2zlkPO_lKL",
        "outputId": "2e522990-0204-417e-9685-053014519d5c"
      },
      "execution_count": null,
      "outputs": [
        {
          "output_type": "error",
          "ename": "NameError",
          "evalue": "ignored",
          "traceback": [
            "\u001b[0;31m---------------------------------------------------------------------------\u001b[0m",
            "\u001b[0;31mNameError\u001b[0m                                 Traceback (most recent call last)",
            "\u001b[0;32m<ipython-input-1-b5fec669aca1>\u001b[0m in \u001b[0;36m<cell line: 1>\u001b[0;34m()\u001b[0m\n\u001b[0;32m----> 1\u001b[0;31m \u001b[0mX\u001b[0m\u001b[0;34m\u001b[0m\u001b[0;34m\u001b[0m\u001b[0m\n\u001b[0m",
            "\u001b[0;31mNameError\u001b[0m: name 'X' is not defined"
          ]
        }
      ]
    },
    {
      "cell_type": "code",
      "source": [
        "y"
      ],
      "metadata": {
        "colab": {
          "base_uri": "https://localhost:8080/"
        },
        "id": "W5Dws6L2_m8w",
        "outputId": "3cf9024f-626f-4daf-a630-2583a9cb0cb4"
      },
      "execution_count": null,
      "outputs": [
        {
          "output_type": "execute_result",
          "data": {
            "text/plain": [
              "array([1, 0, 0, 1, 0, 1, 0, 1, 0, 1])"
            ]
          },
          "metadata": {},
          "execution_count": 6
        }
      ]
    },
    {
      "cell_type": "code",
      "source": [
        "knn = KNN_classifier(n_neighbors=3)"
      ],
      "metadata": {
        "id": "icADSPko_oEh"
      },
      "execution_count": null,
      "outputs": []
    },
    {
      "cell_type": "code",
      "source": [
        "knn.fit(X, y)"
      ],
      "metadata": {
        "id": "XSNCFpho_tqM"
      },
      "execution_count": null,
      "outputs": []
    },
    {
      "cell_type": "code",
      "source": [
        "x_test"
      ],
      "metadata": {
        "colab": {
          "base_uri": "https://localhost:8080/"
        },
        "id": "u8cnf2ir_4n1",
        "outputId": "a9f778da-78a5-4684-d236-ad49cb7e7acf"
      },
      "execution_count": null,
      "outputs": [
        {
          "output_type": "execute_result",
          "data": {
            "text/plain": [
              "array([[-0.12489725,  0.65791923, -0.73112495,  1.42660225,  1.64728976],\n",
              "       [ 0.01913388, -1.11351208, -0.63244098, -0.98121107,  0.38060892],\n",
              "       [-0.92074931,  1.39812225,  0.39692147,  0.7717827 ,  0.44604002]])"
            ]
          },
          "metadata": {},
          "execution_count": 10
        }
      ]
    },
    {
      "cell_type": "code",
      "source": [
        "knn.predict(x_test)"
      ],
      "metadata": {
        "colab": {
          "base_uri": "https://localhost:8080/"
        },
        "id": "LaSaCBs9_xYM",
        "outputId": "6aed0939-3ab3-4f2f-f254-cca23dd81ed1"
      },
      "execution_count": null,
      "outputs": [
        {
          "output_type": "execute_result",
          "data": {
            "text/plain": [
              "array([1, 0, 0])"
            ]
          },
          "metadata": {},
          "execution_count": 11
        }
      ]
    },
    {
      "cell_type": "code",
      "source": [],
      "metadata": {
        "id": "dXTkSHu3__rY"
      },
      "execution_count": null,
      "outputs": []
    }
  ]
}